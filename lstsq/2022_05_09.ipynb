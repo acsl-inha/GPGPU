{
 "cells": [
  {
   "cell_type": "code",
   "execution_count": 1,
   "metadata": {
    "executionInfo": {
     "elapsed": 439,
     "status": "ok",
     "timestamp": 1652106871913,
     "user": {
      "displayName": "이도훈",
      "userId": "08244818386454187914"
     },
     "user_tz": -540
    },
    "id": "KObeGu3zO9Og"
   },
   "outputs": [],
   "source": [
    "from numba import cuda, jit, float32\n",
    "import numpy as np"
   ]
  },
  {
   "cell_type": "code",
   "execution_count": 2,
   "metadata": {
    "colab": {
     "base_uri": "https://localhost:8080/"
    },
    "executionInfo": {
     "elapsed": 2,
     "status": "ok",
     "timestamp": 1652106872492,
     "user": {
      "displayName": "이도훈",
      "userId": "08244818386454187914"
     },
     "user_tz": -540
    },
    "id": "lAMGkHWiWhn7",
    "outputId": "2ee8d3dd-661a-4604-fb2c-c72fe4c9552c"
   },
   "outputs": [
    {
     "name": "stdout",
     "output_type": "stream",
     "text": [
      "Found 1 CUDA devices\n",
      "id 0    b'NVIDIA GeForce GTX 1050'                              [SUPPORTED]\n",
      "                      Compute Capability: 6.1\n",
      "                           PCI Device ID: 0\n",
      "                              PCI Bus ID: 1\n",
      "                                    UUID: GPU-cba7719a-f6c0-d797-af25-5149df6fbfa6\n",
      "                                Watchdog: Enabled\n",
      "                            Compute Mode: WDDM\n",
      "             FP32/FP64 Performance Ratio: 32\n",
      "Summary:\n",
      "\t1/1 devices are supported\n"
     ]
    },
    {
     "data": {
      "text/plain": [
       "True"
      ]
     },
     "execution_count": 2,
     "metadata": {},
     "output_type": "execute_result"
    }
   ],
   "source": [
    "cuda.detect()"
   ]
  },
  {
   "cell_type": "code",
   "execution_count": 22,
   "metadata": {
    "executionInfo": {
     "elapsed": 2,
     "status": "ok",
     "timestamp": 1652106872493,
     "user": {
      "displayName": "이도훈",
      "userId": "08244818386454187914"
     },
     "user_tz": -540
    },
    "id": "1UiKnyp4JTVz"
   },
   "outputs": [],
   "source": [
    "A = np.random.rand(80,80)\n",
    "x = np.random.rand(80)\n",
    "b = np.random.rand(80)\n",
    "out = np.zeros((80))\n",
    "\n",
    "A_ = cuda.to_device(A)\n",
    "x_ = cuda.to_device(x)\n",
    "b_ = cuda.to_device(b)\n",
    "out_ = cuda.to_device(out)"
   ]
  },
  {
   "cell_type": "code",
   "execution_count": 23,
   "metadata": {
    "executionInfo": {
     "elapsed": 2,
     "status": "ok",
     "timestamp": 1652106872493,
     "user": {
      "displayName": "이도훈",
      "userId": "08244818386454187914"
     },
     "user_tz": -540
    },
    "id": "QTm3L49OPJ-C"
   },
   "outputs": [],
   "source": [
    "TPB = 10\n",
    "\n",
    "@jit(nopython=True)\n",
    "def inner_product_for_grad(x, y, b):\n",
    "    out = 0.\n",
    "    \n",
    "    for i in range(x.size):\n",
    "        out += x[i] * y[i]\n",
    "    \n",
    "    out -= b\n",
    "\n",
    "    return out\n",
    "\n",
    "@cuda.jit\n",
    "def indexing(A, x, b, out):\n",
    "    sB = cuda.shared.array(shape=(TPB), dtype=float32)\n",
    "\n",
    "    tx = cuda.threadIdx.x\n",
    "    bpg = cuda.gridDim.x\n",
    "\n",
    "    if tx < 10:\n",
    "        tmp = 0.\n",
    "        for j in range(bpg):\n",
    "            sB[tx] = inner_product_for_grad(A[tx + j * TPB,:], x, b[tx + j * TPB])\n",
    "\n",
    "            out[tx + j * TPB] = sB[tx]"
   ]
  },
  {
   "cell_type": "code",
   "execution_count": 24,
   "metadata": {
    "colab": {
     "base_uri": "https://localhost:8080/"
    },
    "executionInfo": {
     "elapsed": 1946,
     "status": "ok",
     "timestamp": 1652106874437,
     "user": {
      "displayName": "이도훈",
      "userId": "08244818386454187914"
     },
     "user_tz": -540
    },
    "id": "wi6YLvIfPMIy",
    "outputId": "7026d282-882e-4f00-f41b-4e82d2638900"
   },
   "outputs": [
    {
     "name": "stdout",
     "output_type": "stream",
     "text": [
      "[24.50805664 20.56057549 21.91553497 22.9709034  24.55823517 19.34800529\n",
      " 23.01828003 21.51793861 23.28281403 22.65135574 20.53459167 25.74786758\n",
      " 21.17397499 21.43156242 21.51019859 21.69621468 21.70463753 20.47000694\n",
      " 22.67274666 22.10284042 24.3195591  20.1792202  21.58756447 24.07234192\n",
      " 21.56954575 19.90351677 20.04043007 19.09234619 23.84860039 22.37267494\n",
      " 22.72931099 19.66017151 21.95989418 20.17849541 20.28871536 21.76450539\n",
      " 20.96751785 23.55218887 17.82385445 20.06032944 21.99184418 21.74591827\n",
      " 21.96803093 25.05153656 18.7810955  25.54102135 28.0754776  20.14127922\n",
      " 23.95279503 23.72281265 21.80297089 20.590765   18.64358902 20.70512581\n",
      " 24.29169464 22.96321106 19.10893822 23.09531784 20.38539886 22.45574951\n",
      " 23.53698158 23.74315453 21.91783142 21.50679779 23.90076256 24.13824272\n",
      " 22.87413597 20.28474426 22.96225166 26.11632919 20.25970459 20.0115509\n",
      " 21.97161484 22.74934006 23.90742683 22.02205849 21.74355507 23.61950874\n",
      " 22.87112045 24.42792892]\n",
      "\n",
      "[24.50805734 20.56057573 21.91553469 22.9709026  24.55823538 19.34800545\n",
      " 23.0182792  21.51793775 23.28281451 22.65135543 20.53459245 25.74786847\n",
      " 21.17397514 21.43156282 21.51019835 21.69621541 21.70463695 20.47000602\n",
      " 22.67274586 22.10284042 24.31955869 20.17922061 21.58756388 24.07234269\n",
      " 21.56954535 19.90351686 20.04043037 19.09234617 23.84860077 22.37267472\n",
      " 22.72931125 19.66017093 21.95989444 20.17849455 20.28871502 21.7645057\n",
      " 20.96751853 23.55218873 17.82385353 20.06032892 21.99184427 21.7459183\n",
      " 21.96803066 25.05153584 18.78109593 25.54102187 28.07547825 20.14127997\n",
      " 23.95279528 23.72281311 21.80297131 20.59076483 18.64358921 20.70512614\n",
      " 24.29169421 22.96321158 19.10893893 23.09531808 20.38539852 22.45574877\n",
      " 23.53698118 23.74315529 21.91783215 21.50679828 23.90076329 24.13824237\n",
      " 22.87413621 20.28474426 22.96225214 26.11633    20.25970531 20.01155038\n",
      " 21.97161574 22.74933958 23.90742622 22.0220583  21.74355505 23.61950945\n",
      " 22.87111962 24.42792851]\n"
     ]
    }
   ],
   "source": [
    "indexing[(8,8),(TPB,TPB)](A_, x_, b_, out_)\n",
    "print(out_.copy_to_host())\n",
    "print()\n",
    "print((A@x - b))"
   ]
  },
  {
   "cell_type": "code",
   "execution_count": 25,
   "metadata": {
    "executionInfo": {
     "elapsed": 5,
     "status": "ok",
     "timestamp": 1652106874438,
     "user": {
      "displayName": "이도훈",
      "userId": "08244818386454187914"
     },
     "user_tz": -540
    },
    "id": "SvcsARhIPRoi"
   },
   "outputs": [],
   "source": [
    "BPG = 16\n",
    "TPB = 16\n",
    "\n",
    "@cuda.jit\n",
    "def gradient(A, x, b, out):\n",
    "    sA = cuda.shared.array(shape=(TPB,TPB), dtype=float32)\n",
    "    sB = cuda.shared.array(shape=(TPB), dtype=float32)\n",
    "\n",
    "    tx = cuda.threadIdx.x\n",
    "    ty = cuda.threadIdx.y\n",
    "    bx = cuda.blockIdx.x\n",
    "    by = cuda.blockIdx.y\n",
    "    \n",
    "    BPG = cuda.gridDim.x\n",
    "\n",
    "    if tx < TPB and ty < TPB:\n",
    "        tmp = 0.\n",
    "        for j in range(BPG):\n",
    "            sA[tx,ty] = A.T[tx + bx * TPB,ty + j * TPB]\n",
    "            sB[tx] = inner_product_for_grad(A[tx + j * TPB,:], x, b[tx + j * TPB])\n",
    "\n",
    "            cuda.syncthreads()\n",
    "            \n",
    "            for k in range(TPB):\n",
    "                tmp += sA[tx,k] * sB[k]\n",
    "\n",
    "            cuda.syncthreads()\n",
    "\n",
    "        out[tx + bx * TPB] = tmp"
   ]
  },
  {
   "cell_type": "code",
   "execution_count": 26,
   "metadata": {
    "executionInfo": {
     "elapsed": 4,
     "status": "ok",
     "timestamp": 1652106874438,
     "user": {
      "displayName": "이도훈",
      "userId": "08244818386454187914"
     },
     "user_tz": -540
    },
    "id": "qyqtbQzI8aaC"
   },
   "outputs": [],
   "source": [
    "n = BPG * TPB\n",
    "A = np.random.rand(n,n)\n",
    "b = np.random.rand(n)\n",
    "x = np.random.rand(n)\n",
    "out = np.zeros((n))\n",
    "\n",
    "A_ = cuda.to_device(A)\n",
    "b_ = cuda.to_device(b)\n",
    "x_ = cuda.to_device(x)\n",
    "out_ = cuda.to_device(out)"
   ]
  },
  {
   "cell_type": "code",
   "execution_count": 27,
   "metadata": {},
   "outputs": [
    {
     "data": {
      "text/plain": [
       "0.5"
      ]
     },
     "execution_count": 27,
     "metadata": {},
     "output_type": "execute_result"
    }
   ],
   "source": [
    "A.nbytes / (1024**2)"
   ]
  },
  {
   "cell_type": "code",
   "execution_count": 28,
   "metadata": {
    "executionInfo": {
     "elapsed": 581,
     "status": "ok",
     "timestamp": 1652106875015,
     "user": {
      "displayName": "이도훈",
      "userId": "08244818386454187914"
     },
     "user_tz": -540
    },
    "id": "vDboAIlh8oeE"
   },
   "outputs": [],
   "source": [
    "gradient[(BPG,BPG),(TPB,TPB)](A_, x_, b_, out_)"
   ]
  },
  {
   "cell_type": "code",
   "execution_count": 30,
   "metadata": {
    "colab": {
     "base_uri": "https://localhost:8080/"
    },
    "executionInfo": {
     "elapsed": 8,
     "status": "ok",
     "timestamp": 1652106875015,
     "user": {
      "displayName": "이도훈",
      "userId": "08244818386454187914"
     },
     "user_tz": -540
    },
    "id": "nIZ_8hae_bXb",
    "outputId": "ab6282cb-47e3-4beb-e5a2-0daba93df11f"
   },
   "outputs": [
    {
     "data": {
      "text/plain": [
       "array([7451.62881183, 7514.33165698, 7677.58085246, 7762.33650327,\n",
       "       7590.29875586, 7674.12386132, 7794.11419543, 6828.3730692 ,\n",
       "       7779.08248531, 7633.12741157])"
      ]
     },
     "execution_count": 30,
     "metadata": {},
     "output_type": "execute_result"
    }
   ],
   "source": [
    "(A.T@(A@x - b))[:10]"
   ]
  },
  {
   "cell_type": "code",
   "execution_count": 31,
   "metadata": {
    "colab": {
     "base_uri": "https://localhost:8080/"
    },
    "executionInfo": {
     "elapsed": 8,
     "status": "ok",
     "timestamp": 1652106875016,
     "user": {
      "displayName": "이도훈",
      "userId": "08244818386454187914"
     },
     "user_tz": -540
    },
    "id": "ouK5-m_g_IBd",
    "outputId": "34b1fa9f-2ea4-46d7-da61-1396e303b216"
   },
   "outputs": [],
   "source": [
    "out_cpu = out_.copy_to_host()"
   ]
  },
  {
   "cell_type": "code",
   "execution_count": 32,
   "metadata": {
    "colab": {
     "base_uri": "https://localhost:8080/"
    },
    "executionInfo": {
     "elapsed": 6,
     "status": "ok",
     "timestamp": 1652106875016,
     "user": {
      "displayName": "이도훈",
      "userId": "08244818386454187914"
     },
     "user_tz": -540
    },
    "id": "m9z2ZFhh80nJ",
    "outputId": "714bacaa-6a19-4ee8-e7a3-f251bacafb8a"
   },
   "outputs": [
    {
     "name": "stdout",
     "output_type": "stream",
     "text": [
      "0.0002786993408952738\n"
     ]
    }
   ],
   "source": [
    "print(np.linalg.norm(out_cpu - (A.T@(A@x - b))))"
   ]
  },
  {
   "cell_type": "code",
   "execution_count": 33,
   "metadata": {
    "executionInfo": {
     "elapsed": 5,
     "status": "ok",
     "timestamp": 1652106875016,
     "user": {
      "displayName": "이도훈",
      "userId": "08244818386454187914"
     },
     "user_tz": -540
    },
    "id": "8UqIfYPeE-no"
   },
   "outputs": [],
   "source": [
    "@cuda.jit\n",
    "def optimizer(A, x, b, out):\n",
    "    sA = cuda.shared.array(shape=(TPB,TPB), dtype=float32)\n",
    "    sB = cuda.shared.array(shape=(TPB), dtype=float32)\n",
    "\n",
    "    tx = cuda.threadIdx.x\n",
    "    ty = cuda.threadIdx.y\n",
    "    bx = cuda.blockIdx.x\n",
    "    by = cuda.blockIdx.y\n",
    "    \n",
    "    BPG = cuda.gridDim.x\n",
    "\n",
    "    if tx < TPB and ty < TPB:\n",
    "        tmp = 0.\n",
    "        for j in range(BPG):\n",
    "            sA[tx,ty] = A.T[tx + bx * TPB,ty + j * TPB]\n",
    "            sB[tx] = inner_product_for_grad(A[tx + j * TPB,:], x, b[tx + j * TPB])\n",
    "\n",
    "            cuda.syncthreads()\n",
    "            \n",
    "            for k in range(TPB):\n",
    "                tmp += sA[tx,k] * sB[k]\n",
    "\n",
    "            cuda.syncthreads()\n",
    "\n",
    "        out[tx + bx * TPB] = tmp"
   ]
  },
  {
   "cell_type": "code",
   "execution_count": 34,
   "metadata": {
    "executionInfo": {
     "elapsed": 4,
     "status": "ok",
     "timestamp": 1652106875016,
     "user": {
      "displayName": "이도훈",
      "userId": "08244818386454187914"
     },
     "user_tz": -540
    },
    "id": "8Ds8fLked-1I"
   },
   "outputs": [],
   "source": [
    "lr = 1e-3 / A.shape[1]"
   ]
  },
  {
   "cell_type": "code",
   "execution_count": 35,
   "metadata": {
    "executionInfo": {
     "elapsed": 5,
     "status": "ok",
     "timestamp": 1652106875017,
     "user": {
      "displayName": "이도훈",
      "userId": "08244818386454187914"
     },
     "user_tz": -540
    },
    "id": "HvXJylP4EYPs"
   },
   "outputs": [],
   "source": [
    "grad = A.T @ (A @ x - b)\n",
    "optimizer[(BPG,BPG),(TPB,TPB)](A_,x_,b_,out_)"
   ]
  },
  {
   "cell_type": "code",
   "execution_count": 36,
   "metadata": {
    "colab": {
     "base_uri": "https://localhost:8080/"
    },
    "executionInfo": {
     "elapsed": 1156,
     "status": "ok",
     "timestamp": 1652106876168,
     "user": {
      "displayName": "이도훈",
      "userId": "08244818386454187914"
     },
     "user_tz": -540
    },
    "id": "tEOvzPh9Ifs8",
    "outputId": "b98090ea-b60d-4226-9ee3-38d9570ff21c"
   },
   "outputs": [
    {
     "data": {
      "text/plain": [
       "0.0002786993408952738"
      ]
     },
     "execution_count": 36,
     "metadata": {},
     "output_type": "execute_result"
    }
   ],
   "source": [
    "out_cpu = out_.copy_to_host()\n",
    "np.linalg.norm(grad - out_cpu)"
   ]
  },
  {
   "cell_type": "code",
   "execution_count": 37,
   "metadata": {
    "executionInfo": {
     "elapsed": 9,
     "status": "ok",
     "timestamp": 1652106876169,
     "user": {
      "displayName": "이도훈",
      "userId": "08244818386454187914"
     },
     "user_tz": -540
    },
    "id": "ZX7umpyDI7-Z"
   },
   "outputs": [],
   "source": [
    "x -= grad * lr\n",
    "x_ -= out * lr"
   ]
  },
  {
   "cell_type": "code",
   "execution_count": 38,
   "metadata": {
    "colab": {
     "base_uri": "https://localhost:8080/"
    },
    "executionInfo": {
     "elapsed": 8,
     "status": "ok",
     "timestamp": 1652106876169,
     "user": {
      "displayName": "이도훈",
      "userId": "08244818386454187914"
     },
     "user_tz": -540
    },
    "id": "lh78-JmhhZ74",
    "outputId": "97a21d74-ab52-48c7-e590-b09626c01eb4"
   },
   "outputs": [
    {
     "name": "stdout",
     "output_type": "stream",
     "text": [
      "[0.79443    0.37814377 0.64059166 0.51961756 0.67257208 0.23287456\n",
      " 0.55207069 0.74815953 0.90843225 0.03256296]\n",
      "\n",
      "[0.82353792 0.40749663 0.67058221 0.54993919 0.70222169 0.26285161\n",
      " 0.58251645 0.77483286 0.93881929 0.06237987]\n",
      "0.47490811295025914\n"
     ]
    }
   ],
   "source": [
    "print(x[:10])\n",
    "print()\n",
    "print(x_[:10])\n",
    "print(np.linalg.norm(x - x_))"
   ]
  },
  {
   "cell_type": "code",
   "execution_count": 39,
   "metadata": {
    "colab": {
     "base_uri": "https://localhost:8080/"
    },
    "executionInfo": {
     "elapsed": 7,
     "status": "ok",
     "timestamp": 1652106876170,
     "user": {
      "displayName": "이도훈",
      "userId": "08244818386454187914"
     },
     "user_tz": -540
    },
    "id": "bDDHxINEF603",
    "outputId": "f249cfd0-b2a7-4437-f408-eaf5ee4c8b0a"
   },
   "outputs": [
    {
     "name": "stdout",
     "output_type": "stream",
     "text": [
      "Wall time: 13 ms\n"
     ]
    }
   ],
   "source": [
    "%%time \n",
    "for i in range(500):\n",
    "    grad = A.T @ (A @ x - b)"
   ]
  },
  {
   "cell_type": "code",
   "execution_count": 40,
   "metadata": {
    "colab": {
     "base_uri": "https://localhost:8080/",
     "height": 381
    },
    "executionInfo": {
     "elapsed": 91643,
     "status": "error",
     "timestamp": 1652106985858,
     "user": {
      "displayName": "이도훈",
      "userId": "08244818386454187914"
     },
     "user_tz": -540
    },
    "id": "_mNXwW0IHC5c",
    "outputId": "4efb76f8-1b1a-4dc4-9b04-68831250fcc4"
   },
   "outputs": [
    {
     "name": "stderr",
     "output_type": "stream",
     "text": [
      "C:\\Users\\User\\anaconda3\\envs\\gpgpu\\lib\\site-packages\\numba\\cuda\\cudadrv\\devicearray.py:885: NumbaPerformanceWarning: \u001b[1mHost array used in CUDA kernel will incur copy overhead to/from device.\u001b[0m\n",
      "  warn(NumbaPerformanceWarning(msg))\n"
     ]
    },
    {
     "name": "stdout",
     "output_type": "stream",
     "text": [
      "Wall time: 10.4 s\n"
     ]
    }
   ],
   "source": [
    "%%time\n",
    "for i in range(500):\n",
    "    gradient[(BPG,BPG),(TPB,TPB)](A_,x_,b_,out_)"
   ]
  },
  {
   "cell_type": "code",
   "execution_count": null,
   "metadata": {
    "id": "rKshnkWhPUrl"
   },
   "outputs": [],
   "source": [
    "## Using one GPU \n",
    "class LeastSquare():\n",
    "    def __init__(self, A, b, epoches=10, TPB=16):\n",
    "        self.A = A\n",
    "        self.b = b\n",
    "        self.lr = 1e-3/A.shape[1]\n",
    "        self.epoches = epoches\n",
    "        self.x = cuda.to_device(np.random.rand(A.shape[1]))\n",
    "        self.x_hat = cuda.device_array((A.shape[1]))\n",
    "        self.error_list = []\n",
    "        self.grad = cuda.device_array((A.shape[1]))\n",
    "\n",
    "        ## About kernel, Configure the blocks\n",
    "        self.threadsperblock = (TPB,TPB) \n",
    "        blockspergrid_x = int(np.ceil(A.shape[0] / self.threadsperblock[1]))\n",
    "        blockspergrid_y = int(np.ceil(A.shape[1] / self.threadsperblock[0]))\n",
    "        self.blockspergrid = (blockspergrid_x, blockspergrid_y)\n",
    "        \n",
    "    def run(self):\n",
    "        for i in range(self.epoches):\n",
    "            A, b = self.initialize()\n",
    "            self.optimize(A, b, self.x)\n",
    "\n",
    "        return self.x_hat\n",
    "\n",
    "    def initialize(self):\n",
    "        index = np.random.choice(self.A.shape[0], 1000)\n",
    "        A = cuda.to_device(self.A[index,:])\n",
    "        b = cuda.to_device(self.b[index])\n",
    "\n",
    "        return A, b\n",
    "\n",
    "    def optimize(self, A, b, x, iters_per_epoch=500):\n",
    "        \n",
    "        for i in range(iters_per_epoch):\n",
    "            optimizer[self.blockspergrid, self.threadsperblock](A, x, b, lr)\n",
    "\n",
    "    def check(self, x):\n",
    "        b_hat = self.A @ x\n",
    "        error = np.linalg.norm(self.b - b_hat)\n",
    "        self.error_list.append(error)\n",
    "\n",
    "        return error"
   ]
  }
 ],
 "metadata": {
  "accelerator": "GPU",
  "colab": {
   "authorship_tag": "ABX9TyPeBaf+0l3PuZRhnom8MHLX",
   "collapsed_sections": [],
   "name": "2022_05_09.ipynb",
   "provenance": []
  },
  "kernelspec": {
   "display_name": "Python 3 (ipykernel)",
   "language": "python",
   "name": "python3"
  },
  "language_info": {
   "codemirror_mode": {
    "name": "ipython",
    "version": 3
   },
   "file_extension": ".py",
   "mimetype": "text/x-python",
   "name": "python",
   "nbconvert_exporter": "python",
   "pygments_lexer": "ipython3",
   "version": "3.7.13"
  }
 },
 "nbformat": 4,
 "nbformat_minor": 1
}
