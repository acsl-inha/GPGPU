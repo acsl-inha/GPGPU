{
 "cells": [
  {
   "cell_type": "code",
   "execution_count": 3,
   "id": "d6d7ce64",
   "metadata": {},
   "outputs": [],
   "source": [
    "from numba import jit, cuda, float32\n",
    "import numpy as np"
   ]
  },
  {
   "cell_type": "code",
   "execution_count": 10,
   "id": "89cab9f3",
   "metadata": {},
   "outputs": [],
   "source": [
    "@jit(nopython=True)\n",
    "def inner_product_for_grad(x, y, b):\n",
    "    out = 0.\n",
    "    \n",
    "    for i in range(x.size):\n",
    "        out += x[i] * y[i]\n",
    "    \n",
    "    out -= b\n",
    "\n",
    "    return out\n",
    "\n",
    "BPG = 16\n",
    "TPB = 24\n",
    "\n",
    "@cuda.jit\n",
    "def gradient(A, x, b, out):\n",
    "    sA = cuda.shared.array(shape=(TPB,TPB), dtype=float32)\n",
    "    sB = cuda.shared.array(shape=(TPB), dtype=float32)\n",
    "\n",
    "    tx = cuda.threadIdx.x\n",
    "    ty = cuda.threadIdx.y\n",
    "    bx = cuda.blockIdx.x\n",
    "    by = cuda.blockIdx.y\n",
    "    \n",
    "    BPG = cuda.gridDim.x\n",
    "\n",
    "    if tx < TPB and ty < TPB:\n",
    "        tmp = 0.\n",
    "        for j in range(BPG):\n",
    "            sA[tx,ty] = A.T[tx + bx * TPB,ty + j * TPB]\n",
    "            sB[tx] = inner_product_for_grad(A[tx + j * TPB,:], x, b[tx + j * TPB])\n",
    "\n",
    "            cuda.syncthreads()\n",
    "            \n",
    "            for k in range(TPB):\n",
    "                tmp += sA[tx,k] * sB[k]\n",
    "\n",
    "            cuda.syncthreads()\n",
    "\n",
    "        out[tx + bx * TPB] = tmp"
   ]
  },
  {
   "cell_type": "code",
   "execution_count": 18,
   "id": "15d2f198",
   "metadata": {},
   "outputs": [],
   "source": [
    "n = BPG * TPB\n",
    "A = np.random.randn(n,n)\n",
    "b = np.random.randn(n)\n",
    "x = np.random.randn(n)\n",
    "out = np.zeros((n))\n",
    "\n",
    "A_ = cuda.to_device(A)\n",
    "b_ = cuda.to_device(b)\n",
    "x_ = cuda.to_device(x)\n",
    "out_ = cuda.to_device(out)"
   ]
  },
  {
   "cell_type": "code",
   "execution_count": 19,
   "id": "2d8edcf2",
   "metadata": {},
   "outputs": [
    {
     "data": {
      "text/plain": [
       "1.125"
      ]
     },
     "execution_count": 19,
     "metadata": {},
     "output_type": "execute_result"
    }
   ],
   "source": [
    "A.nbytes / (1024**2)"
   ]
  },
  {
   "cell_type": "code",
   "execution_count": 20,
   "id": "6e0f4232",
   "metadata": {},
   "outputs": [],
   "source": [
    "gradient[(BPG,BPG),(TPB,TPB)](A_, x_, b_, out_)"
   ]
  },
  {
   "cell_type": "code",
   "execution_count": 21,
   "id": "b71471c6",
   "metadata": {},
   "outputs": [
    {
     "data": {
      "text/plain": [
       "array([-228.28756498,  812.84408078,   50.80270226,  889.1304349 ,\n",
       "         11.4467005 , -729.60431778, -312.57329451, -575.62741395,\n",
       "       -680.77692563, -586.5735268 ])"
      ]
     },
     "execution_count": 21,
     "metadata": {},
     "output_type": "execute_result"
    }
   ],
   "source": [
    "(A.T@(A@x - b))[:10]"
   ]
  },
  {
   "cell_type": "code",
   "execution_count": 26,
   "id": "6766c80f",
   "metadata": {},
   "outputs": [],
   "source": [
    "out_cpu = out_.copy_to_host()"
   ]
  },
  {
   "cell_type": "code",
   "execution_count": 23,
   "id": "434c5428",
   "metadata": {},
   "outputs": [
    {
     "name": "stdout",
     "output_type": "stream",
     "text": [
      "0.00036926049609955136\n"
     ]
    }
   ],
   "source": [
    "print(np.linalg.norm(out_cpu - (A.T@(A@x - b))))"
   ]
  },
  {
   "cell_type": "code",
   "execution_count": 24,
   "id": "8d82cf13",
   "metadata": {},
   "outputs": [
    {
     "name": "stdout",
     "output_type": "stream",
     "text": [
      "Wall time: 26 ms\n"
     ]
    }
   ],
   "source": [
    "%%time \n",
    "for i in range(500):\n",
    "    grad = A.T @ (A @ x - b)"
   ]
  },
  {
   "cell_type": "code",
   "execution_count": 25,
   "id": "3f381931",
   "metadata": {},
   "outputs": [
    {
     "name": "stdout",
     "output_type": "stream",
     "text": [
      "Wall time: 48 ms\n"
     ]
    }
   ],
   "source": [
    "%%time\n",
    "for i in range(500):\n",
    "    gradient[(BPG,BPG),(TPB,TPB)](A_,x_,b_,out_)"
   ]
  },
  {
   "cell_type": "code",
   "execution_count": null,
   "id": "24a52cdf",
   "metadata": {},
   "outputs": [],
   "source": []
  }
 ],
 "metadata": {
  "kernelspec": {
   "display_name": "Python 3 (ipykernel)",
   "language": "python",
   "name": "python3"
  },
  "language_info": {
   "codemirror_mode": {
    "name": "ipython",
    "version": 3
   },
   "file_extension": ".py",
   "mimetype": "text/x-python",
   "name": "python",
   "nbconvert_exporter": "python",
   "pygments_lexer": "ipython3",
   "version": "3.7.13"
  }
 },
 "nbformat": 4,
 "nbformat_minor": 5
}
